{
 "cells": [
  {
   "cell_type": "markdown",
   "id": "501f71ab-6daf-4052-a78c-f0444d0af9d7",
   "metadata": {},
   "source": [
    "# Model Tunning\n",
    "The purpose of this notebook is to find the optimal parameters of the model that will be used in order to classify audio files into 5 emotional categories.\n",
    "There are many ways to represent audio files, but in this specific project, we choose to convert each audio file to a vector of numerical features, and then\n",
    "use a neural network (ANN) to make the classification."
   ]
  },
  {
   "cell_type": "markdown",
   "id": "1a2a1f56-f324-4fcb-8ad2-4d9a0eedc229",
   "metadata": {},
   "source": [
    "## Imports"
   ]
  },
  {
   "cell_type": "code",
   "execution_count": 1,
   "id": "9ffeb565-e0d2-496b-a29f-643ee2bafd1c",
   "metadata": {},
   "outputs": [],
   "source": [
    "import numpy as np\n",
    "import pandas as pd\n",
    "import matplotlib.pyplot as plt\n",
    "from collections import Counter\n",
    "from tensorflow import keras\n",
    "from keras import layers\n",
    "from sklearn.model_selection import train_test_split"
   ]
  },
  {
   "cell_type": "markdown",
   "id": "5f4e67a3-37ea-4ea1-ac95-5bc48e1d93fe",
   "metadata": {},
   "source": [
    "## Data Reading\n",
    "In this part, we read the data and store them to a dataframe"
   ]
  },
  {
   "cell_type": "code",
   "execution_count": 2,
   "id": "613b07d9-5c72-4608-89fb-0c4bdc6eb3c3",
   "metadata": {},
   "outputs": [
    {
     "data": {
      "text/html": [
       "<div>\n",
       "<style scoped>\n",
       "    .dataframe tbody tr th:only-of-type {\n",
       "        vertical-align: middle;\n",
       "    }\n",
       "\n",
       "    .dataframe tbody tr th {\n",
       "        vertical-align: top;\n",
       "    }\n",
       "\n",
       "    .dataframe thead th {\n",
       "        text-align: right;\n",
       "    }\n",
       "</style>\n",
       "<table border=\"1\" class=\"dataframe\">\n",
       "  <thead>\n",
       "    <tr style=\"text-align: right;\">\n",
       "      <th></th>\n",
       "      <th>mfcc</th>\n",
       "      <th>chroma</th>\n",
       "      <th>mel</th>\n",
       "      <th>label</th>\n",
       "    </tr>\n",
       "  </thead>\n",
       "  <tbody>\n",
       "    <tr>\n",
       "      <th>0</th>\n",
       "      <td>-295.98865~105.36255~-16.353527~5.4801188~-17....</td>\n",
       "      <td>0.6021514~0.48702985~0.45771214~0.4722117~0.42...</td>\n",
       "      <td>1.5608983e-05~0.00020586695~0.0015100229~0.050...</td>\n",
       "      <td>anger</td>\n",
       "    </tr>\n",
       "    <tr>\n",
       "      <th>1</th>\n",
       "      <td>-308.15204~119.90065~-23.716702~-9.39748~-22.8...</td>\n",
       "      <td>0.6032951~0.5813256~0.61445487~0.57001597~0.45...</td>\n",
       "      <td>4.3338773e-06~1.0461925e-05~5.4465807e-05~0.00...</td>\n",
       "      <td>anger</td>\n",
       "    </tr>\n",
       "    <tr>\n",
       "      <th>2</th>\n",
       "      <td>-305.94824~110.138985~-13.923437~17.175982~-19...</td>\n",
       "      <td>0.66323256~0.6077178~0.6698733~0.70354384~0.65...</td>\n",
       "      <td>6.722516e-05~0.0027697557~0.09731158~0.9607768...</td>\n",
       "      <td>anger</td>\n",
       "    </tr>\n",
       "    <tr>\n",
       "      <th>3</th>\n",
       "      <td>-286.55246~118.74021~-25.84763~20.624996~-28.5...</td>\n",
       "      <td>0.6495695~0.682862~0.7412222~0.70849925~0.6580...</td>\n",
       "      <td>4.422941e-05~0.0014562423~0.05136057~0.6052398...</td>\n",
       "      <td>anger</td>\n",
       "    </tr>\n",
       "    <tr>\n",
       "      <th>4</th>\n",
       "      <td>-322.03024~99.978195~-34.859497~10.481912~-0.5...</td>\n",
       "      <td>0.5436057~0.5823237~0.59510565~0.58050835~0.53...</td>\n",
       "      <td>0.0018223199~0.0021862376~0.0032291228~0.00397...</td>\n",
       "      <td>anger</td>\n",
       "    </tr>\n",
       "  </tbody>\n",
       "</table>\n",
       "</div>"
      ],
      "text/plain": [
       "                                                mfcc  \\\n",
       "0  -295.98865~105.36255~-16.353527~5.4801188~-17....   \n",
       "1  -308.15204~119.90065~-23.716702~-9.39748~-22.8...   \n",
       "2  -305.94824~110.138985~-13.923437~17.175982~-19...   \n",
       "3  -286.55246~118.74021~-25.84763~20.624996~-28.5...   \n",
       "4  -322.03024~99.978195~-34.859497~10.481912~-0.5...   \n",
       "\n",
       "                                              chroma  \\\n",
       "0  0.6021514~0.48702985~0.45771214~0.4722117~0.42...   \n",
       "1  0.6032951~0.5813256~0.61445487~0.57001597~0.45...   \n",
       "2  0.66323256~0.6077178~0.6698733~0.70354384~0.65...   \n",
       "3  0.6495695~0.682862~0.7412222~0.70849925~0.6580...   \n",
       "4  0.5436057~0.5823237~0.59510565~0.58050835~0.53...   \n",
       "\n",
       "                                                 mel  label  \n",
       "0  1.5608983e-05~0.00020586695~0.0015100229~0.050...  anger  \n",
       "1  4.3338773e-06~1.0461925e-05~5.4465807e-05~0.00...  anger  \n",
       "2  6.722516e-05~0.0027697557~0.09731158~0.9607768...  anger  \n",
       "3  4.422941e-05~0.0014562423~0.05136057~0.6052398...  anger  \n",
       "4  0.0018223199~0.0021862376~0.0032291228~0.00397...  anger  "
      ]
     },
     "execution_count": 2,
     "metadata": {},
     "output_type": "execute_result"
    }
   ],
   "source": [
    "INPUT_FILE = 'converted_audio.csv'\n",
    "\n",
    "df = pd.read_csv(INPUT_FILE)\n",
    "df.head()"
   ]
  },
  {
   "cell_type": "code",
   "execution_count": 3,
   "id": "0be28d68-6bf0-4272-b895-d995b0264442",
   "metadata": {},
   "outputs": [
    {
     "name": "stdout",
     "output_type": "stream",
     "text": [
      "Number of samples: 604\n",
      "Columns in our dataframe: Index(['mfcc', 'chroma', 'mel', 'label'], dtype='object')\n",
      "Data type of features: <class 'str'>\n"
     ]
    }
   ],
   "source": [
    "# let's see more details about the dataframe\n",
    "print(\"Number of samples:\", df.shape[0])   # check how many samples we have\n",
    "print(\"Columns in our dataframe:\", df.columns)  # see all the columns of the df\n",
    "print('Data type of features:', type(df['mfcc'][0]))  # check the type of the features"
   ]
  },
  {
   "cell_type": "code",
   "execution_count": 4,
   "id": "9f436f4f-0483-4db0-afde-2e008a791c21",
   "metadata": {},
   "outputs": [
    {
     "data": {
      "image/png": "[encoded data removed]",
      "text/plain": [
       "<Figure size 864x432 with 1 Axes>"
      ]
     },
     "metadata": {
      "needs_background": "light"
     },
     "output_type": "display_data"
    }
   ],
   "source": [
    "# let's see how many samples belong to each category (label)\n",
    "sample_ratios = Counter(list(df['label']))   # returns a dictionary-like data structure, with keys the unique labels, and values the number of times they are encountered\n",
    "\n",
    "# create a bar plot for better visual understanding\n",
    "plt.figure(figsize=(12,6))\n",
    "plt.bar(*zip(*sample_ratios.items()))\n",
    "plt.xlabel('Labels')\n",
    "plt.ylabel('Number of samples')\n",
    "plt.title('Data Distribution')\n",
    "plt.show()"
   ]
  },
  {
   "cell_type": "markdown",
   "id": "ae962b38-498d-427e-be57-82fe64493725",
   "metadata": {},
   "source": [
    "## Preparing the data to be used as input to the model\n",
    "In the previous part, we imported the data we need. We also saw that the number of samples is almost the same in all categories, which \n",
    "means that we don't have bias towards one specific category (for example if anger had 90% of all samples, then the model would be closer to classifying a new image as anger, because it \n",
    "does not have enough data to understand that it resembles another category). Now, it is time to process those data and prepare them to train he model."
   ]
  },
  {
   "cell_type": "code",
   "execution_count": 5,
   "id": "5031b12b-e077-4fa9-9443-43adc1b53ac3",
   "metadata": {},
   "outputs": [
    {
     "name": "stdout",
     "output_type": "stream",
     "text": [
      "<class 'list'>\n"
     ]
    }
   ],
   "source": [
    "# First, we need to convert the feature values from str to array\n",
    "\n",
    "df['features'] = df['mfcc'] + '~' + df['chroma'] + '~' + df['mel'] # concat all columns into a new one\n",
    "\n",
    "features_as_string = list(df['features'])   # get the new column, containing all the features\n",
    "features = list(map(lambda x: x.split('~'), features_as_string))   # convert from string to list\n",
    "\n",
    "print(type(features[0]))  # check that everything went fine --> should be <class 'list'>"
   ]
  },
  {
   "cell_type": "code",
   "execution_count": 7,
   "id": "b487dc4b-7cc9-4886-9c62-a7b14e680f62",
   "metadata": {},
   "outputs": [
    {
     "name": "stdout",
     "output_type": "stream",
     "text": [
      "<class 'numpy.ndarray'>\n"
     ]
    }
   ],
   "source": [
    "# also, turn the list of str to np.array of float\n",
    "\n",
    "def convert_to_float_array(l):   # helping function\n",
    "    float_l = list(map(float, l))\n",
    "    return np.array(float_l)\n",
    "\n",
    "\n",
    "features = list(map(convert_to_float_array, features))\n",
    "print(type(features[0]))"
   ]
  },
  {
   "cell_type": "code",
   "execution_count": 9,
   "id": "66db8e53-80e6-40cb-ab8a-4131f772235f",
   "metadata": {},
   "outputs": [
    {
     "name": "stdout",
     "output_type": "stream",
     "text": [
      "Shape of the new input: (180,)\n"
     ]
    }
   ],
   "source": [
    "# check the dimension of the reformatted input\n",
    "print('Shape of the new input:', features[0].shape)"
   ]
  },
  {
   "cell_type": "code",
   "execution_count": 11,
   "id": "06350a90-def5-47fd-b0e7-7cb994c7ff46",
   "metadata": {},
   "outputs": [
    {
     "name": "stdout",
     "output_type": "stream",
     "text": [
      "Input shape is OK\n"
     ]
    }
   ],
   "source": [
    "# make sure that all input samples have the same dimensions\n",
    "\n",
    "input_shape = features[0].shape[0]   # will also be used later when we define the input shape of the neural network's first layer\n",
    "for f in features[1:]:\n",
    "    assert f.shape[0] == input_shape\n",
    "\n",
    "print('Input shape is OK')"
   ]
  },
  {
   "cell_type": "code",
   "execution_count": 12,
   "id": "75e34ca4-a99a-4c52-b94e-d155cec32179",
   "metadata": {},
   "outputs": [
    {
     "name": "stdout",
     "output_type": "stream",
     "text": [
      "0\n"
     ]
    }
   ],
   "source": [
    "# extract labels\n",
    "labels = list(df['label'])\n",
    "\n",
    "# encode the labels\n",
    "label_encoding = {\n",
    "    'anger': 0,\n",
    "    'disgust': 1,\n",
    "    'fear': 2,\n",
    "    'happiness': 3,\n",
    "    'sadness': 4\n",
    "}\n",
    "\n",
    "labels = list(map(lambda x: label_encoding[x], labels))\n",
    "\n",
    "print(labels[1])  # check that the encoding worked"
   ]
  },
  {
   "cell_type": "code",
   "execution_count": 23,
   "id": "36d75067-a1c5-4dfd-91ff-413a3237ac79",
   "metadata": {},
   "outputs": [],
   "source": [
    "# turn labels and features to np.array\n",
    "features, labels = np.array(features), np.array(labels)"
   ]
  },
  {
   "cell_type": "code",
   "execution_count": 24,
   "id": "3c9c5c78-56e0-4d1f-9b82-16132fb0db46",
   "metadata": {},
   "outputs": [],
   "source": [
    "# split the data, using a 70%-30% analogy for training and testing data respectively\n",
    "train_data, test_data, train_labels, test_labels = train_test_split(features, labels, train_size=0.7)"
   ]
  },
  {
   "cell_type": "markdown",
   "id": "e46bd011-c8bd-40d1-a1f4-ed40bd545c91",
   "metadata": {},
   "source": [
    "## Hyperparameter Tuning\n",
    "In this part, we will use brute-force in order to find the optimal parameters of the model. The process we will follow consists of the below steps:\n",
    "1. Create a model with specific parameter values\n",
    "2. Train the model with the training dataset\n",
    "3. Evaluate the model using the testing dataset\n",
    "4. Compare the results with those for other parameters values and pick the best one."
   ]
  },
  {
   "cell_type": "code",
   "execution_count": 19,
   "id": "b3ba5040-59bc-418a-9db7-5576ea4957a1",
   "metadata": {},
   "outputs": [],
   "source": [
    "# first we will make a custom function that creates a model - for this project we will only use 2 dense layers, followed by a dropout layer\n",
    "def create_model(d1, d2, dr):\n",
    "    model = keras.models.Sequential()    \n",
    "    model.add(layers.Dense(d1, input_shape=(input_shape,)))                        \n",
    "    model.add(layers.Dense(d2, activation='relu'))      \n",
    "    model.add(layers.Dropout(dr))\n",
    "    model.add(layers.Dense(5))   # the output layer, it contains 5 neurons , since it has 5 possible categories\n",
    "    \n",
    "    return model"
   ]
  },
  {
   "cell_type": "code",
   "execution_count": 26,
   "id": "f9c51f79-19eb-402a-bac0-71cbc2d03f4b",
   "metadata": {},
   "outputs": [
    {
     "name": "stdout",
     "output_type": "stream",
     "text": [
      "Temporary best accuracy: 0.3131868243217468\n",
      "Temporary best accuracy: 0.4395604431629181\n",
      "Temporary best accuracy: 0.6208791136741638\n",
      "Temporary best accuracy: 0.6263736486434937\n",
      "Temporary best accuracy: 0.6373626589775085\n",
      "Temporary best accuracy: 0.7142857313156128\n",
      "Temporary best accuracy: 0.7197802066802979\n",
      "Temporary best accuracy: 0.7307692170143127\n",
      "Temporary best accuracy: 0.7362637519836426\n",
      "Temporary best accuracy: 0.7417582273483276\n",
      "Temporary best accuracy: 0.7747252583503723\n",
      "Best parameters were found to be:\n",
      "[16, 64, 0.25, 100]\n",
      "Maximum Accuracy Achieved: 0.7747252583503723\n"
     ]
    }
   ],
   "source": [
    "# finding optimal parameters\n",
    "\n",
    "# possible parameter values that will be tried\n",
    "EPOCHS = [25, 50, 100]\n",
    "FIRST_LAYER = [4, 8, 16, 32, 64]    # first dense layer\n",
    "SECOND_LAYER = [4, 8, 16, 32, 64]   # second dense layer\n",
    "DROP_LAYER = list(np.linspace(0, 0.5, num=5))  # dropout layer\n",
    "\n",
    "\n",
    "max_acc = 0\n",
    "best_params = []\n",
    "\n",
    "for f in FIRST_LAYER:\n",
    "    for s in SECOND_LAYER:\n",
    "        for d in DROP_LAYER:\n",
    "            for e in EPOCHS:\n",
    "                model = create_model(f, s, d)  # create the architecture of the model\n",
    "                    \n",
    "                model.compile(      # compiling the model\n",
    "                    optimizer='adam',   # optimizer function\n",
    "                    loss=keras.losses.SparseCategoricalCrossentropy(from_logits=True),  # loss/cost function\n",
    "                    metrics=['accuracy']   # metrics that we are interested in\n",
    "                )\n",
    "                    \n",
    "                model.fit(train_data, train_labels, epochs=e, validation_data=(test_data, test_labels), verbose=0)  # training the model\n",
    "                              \n",
    "                test_loss, test_accuracy = model.evaluate(test_data, test_labels, verbose=0)  # in order to avoid large output, we set verbose=0 (silent)\n",
    "                \n",
    "                # compare current accuracy with previous max, and update the best_params and max_acc accordingly\n",
    "                if test_accuracy > max_acc:\n",
    "                    max_acc, best_params = test_accuracy, [f, s, d, e]\n",
    "                    #print('Temporary best parameters:')\n",
    "                    #print(best_params)\n",
    "                    print('Temporary best accuracy:', str(max_acc))\n",
    "\n",
    "\n",
    "print(\"Best parameters were found to be:\")\n",
    "print(best_params)\n",
    "print(\"Maximum Accuracy Achieved:\", str(max_acc))"
   ]
  },
  {
   "cell_type": "code",
   "execution_count": 35,
   "id": "b8c1d0d6-ae07-440b-b9dd-779ae9c2af76",
   "metadata": {},
   "outputs": [],
   "source": [
    "# further investigation on optimal number of epochs\n",
    "optimal_model = create_model(best_params[0], best_params[1], best_params[2])  # creating the model with the optimal parameters\n",
    "\n",
    "optimal_model.compile(   # compiling the model\n",
    "    optimizer='adam',   # optimizer function\n",
    "    loss=keras.losses.SparseCategoricalCrossentropy(from_logits=True),  # loss/cost function\n",
    "    metrics=['accuracy']   # metrics that we are interested in\n",
    ")\n",
    "\n",
    "history = optimal_model.fit(train_data, train_labels, epochs=200, validation_data=(test_data, test_labels), verbose=0)"
   ]
  },
  {
   "cell_type": "code",
   "execution_count": 38,
   "id": "26837a9e-8f0b-456b-b174-0fcb5d7cf77d",
   "metadata": {},
   "outputs": [
    {
     "data": {
      "image/png": "[encoded data removed]",
      "text/plain": [
       "<Figure size 864x432 with 1 Axes>"
      ]
     },
     "metadata": {
      "needs_background": "light"
     },
     "output_type": "display_data"
    }
   ],
   "source": [
    "# plot a diagramm to check for overfitting/underfitting\n",
    "epochs = [i for i in range(1,201)]\n",
    "\n",
    "plt.figure(figsize=(12, 6))\n",
    "plt.plot(epochs, history.history['accuracy'], label='Training Accuracy')\n",
    "plt.plot(epochs, history.history['val_accuracy'], label='Testing Accuracy')\n",
    "plt.xlabel('Epochs')\n",
    "plt.ylabel('Accuracy')\n",
    "plt.legend()\n",
    "plt.show()"
   ]
  },
  {
   "cell_type": "markdown",
   "id": "0e95ef61-b1a7-401e-b190-7972b7fc57b5",
   "metadata": {},
   "source": [
    "From the above diagramm, it seems that after 100 epochs the model's val_accuracy stops increasing. As such, we can assume that 100 epochs are optimal enough to avoid both overfitting and underfitting."
   ]
  }
 ],
 "metadata": {
  "kernelspec": {
   "display_name": "Python 3 (ipykernel)",
   "language": "python",
   "name": "python3"
  },
  "language_info": {
   "codemirror_mode": {
    "name": "ipython",
    "version": 3
   },
   "file_extension": ".py",
   "mimetype": "text/x-python",
   "name": "python",
   "nbconvert_exporter": "python",
   "pygments_lexer": "ipython3",
   "version": "3.9.12"
  }
 },
 "nbformat": 4,
 "nbformat_minor": 5
}
